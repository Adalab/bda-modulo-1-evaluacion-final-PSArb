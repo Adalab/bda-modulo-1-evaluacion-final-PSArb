{
 "cells": [
  {
   "cell_type": "code",
   "execution_count": 408,
   "id": "40660a33",
   "metadata": {},
   "outputs": [],
   "source": [
    "#Vamos a crear las estructuras principales con las que vamos a trabajar \n",
    "#tendremos una variable por cada estructura\n",
    "inventario = {} #Aquí se guardarán los productos, esta es una variable de tipo lista\n",
    "clientes = {} # igual que la anterior, con Información de los clientes\n",
    "ventas_totales = 0.0 # Una variable para llevar un registro de las ventas totales de la tienda. Inicializalo con valor 0. Al ser un dato de tipo Float debemos iniciar en 0.0"
   ]
  },
  {
   "cell_type": "markdown",
   "id": "486360a8",
   "metadata": {},
   "source": [
    "## Ejercicio 1"
   ]
  },
  {
   "cell_type": "code",
   "execution_count": 409,
   "id": "c7ce8862",
   "metadata": {},
   "outputs": [],
   "source": [
    "# Función para agregar un producto al inventario\n",
    "def agregar_producto(nombre, precio, stock): # Si el nombre del producto NO está en el inventario\n",
    "    if nombre not in inventario: # Creamos un nuevo producto como diccionario con su precio y stock\n",
    "        inventario[nombre] = {\"precio\": precio, \"stock\": stock}\n",
    "        print(f'Producto \"{nombre}\" agregado con éxito.') # muestrs un mensaje diciendo que se agregó\n",
    "    else:\n",
    "        inventario[nombre][\"stock\"] += 1 # Si ya existe, le sumamos 1 al stock\n",
    "        # miestra un mensaje diciendo que se actualizó el stock\n",
    "        print(f'El producto \"{nombre}\" ya existe. Stock actualizado a {inventario[nombre][\"stock\"]}.')"
   ]
  },
  {
   "cell_type": "code",
   "execution_count": 410,
   "id": "28df2631",
   "metadata": {},
   "outputs": [
    {
     "name": "stdout",
     "output_type": "stream",
     "text": [
      "Producto \"Camisa\" agregado con éxito.\n"
     ]
    }
   ],
   "source": [
    "#vamos a probar si esta primera funcion funciona:\n",
    "agregar_producto('Camisa', 20, 40)"
   ]
  },
  {
   "cell_type": "code",
   "execution_count": 411,
   "id": "f9715b5b",
   "metadata": {},
   "outputs": [
    {
     "name": "stdout",
     "output_type": "stream",
     "text": [
      "El producto \"Camisa\" ya existe. Stock actualizado a 41.\n"
     ]
    }
   ],
   "source": [
    "#voy a comprobar que pasa si agrego la misma de nuevo\n",
    "agregar_producto('Camisa', 20, 2)\n"
   ]
  },
  {
   "cell_type": "code",
   "execution_count": 412,
   "id": "594291dc",
   "metadata": {},
   "outputs": [
    {
     "data": {
      "text/plain": [
       "{'Camisa': {'precio': 20, 'stock': 41}}"
      ]
     },
     "execution_count": 412,
     "metadata": {},
     "output_type": "execute_result"
    }
   ],
   "source": [
    "inventario"
   ]
  },
  {
   "cell_type": "code",
   "execution_count": 413,
   "id": "24a8200a",
   "metadata": {},
   "outputs": [
    {
     "name": "stdout",
     "output_type": "stream",
     "text": [
      "Producto \"pantalon\" agregado con éxito.\n"
     ]
    }
   ],
   "source": [
    "agregar_producto('pantalon', 20, 5)"
   ]
  },
  {
   "cell_type": "code",
   "execution_count": 414,
   "id": "4324ff96",
   "metadata": {},
   "outputs": [
    {
     "data": {
      "text/plain": [
       "dict"
      ]
     },
     "execution_count": 414,
     "metadata": {},
     "output_type": "execute_result"
    }
   ],
   "source": [
    "type(clientes)"
   ]
  },
  {
   "cell_type": "code",
   "execution_count": 415,
   "id": "4aea05d2",
   "metadata": {},
   "outputs": [
    {
     "data": {
      "text/plain": [
       "dict"
      ]
     },
     "execution_count": 415,
     "metadata": {},
     "output_type": "execute_result"
    }
   ],
   "source": [
    "type(inventario)"
   ]
  },
  {
   "cell_type": "code",
   "execution_count": 416,
   "id": "cc8dba0c",
   "metadata": {},
   "outputs": [
    {
     "data": {
      "text/plain": [
       "function"
      ]
     },
     "execution_count": 416,
     "metadata": {},
     "output_type": "execute_result"
    }
   ],
   "source": [
    "type(agregar_producto)"
   ]
  },
  {
   "cell_type": "code",
   "execution_count": 417,
   "id": "6381b753",
   "metadata": {},
   "outputs": [
    {
     "name": "stdout",
     "output_type": "stream",
     "text": [
      "Producto \"zapatillas\" agregado con éxito.\n"
     ]
    }
   ],
   "source": [
    "agregar_producto('zapatillas', 50, 2)"
   ]
  },
  {
   "cell_type": "code",
   "execution_count": 418,
   "id": "b1c58469",
   "metadata": {},
   "outputs": [
    {
     "data": {
      "text/plain": [
       "{'Camisa': {'precio': 20, 'stock': 41},\n",
       " 'pantalon': {'precio': 20, 'stock': 5},\n",
       " 'zapatillas': {'precio': 50, 'stock': 2}}"
      ]
     },
     "execution_count": 418,
     "metadata": {},
     "output_type": "execute_result"
    }
   ],
   "source": [
    "inventario"
   ]
  },
  {
   "cell_type": "markdown",
   "id": "b47baec5",
   "metadata": {},
   "source": [
    "## Ejercicio 2"
   ]
  },
  {
   "cell_type": "code",
   "execution_count": 419,
   "id": "10f66439",
   "metadata": {},
   "outputs": [
    {
     "data": {
      "text/plain": [
       "{'Camisa': {'precio': 20, 'stock': 41},\n",
       " 'pantalon': {'precio': 20, 'stock': 5},\n",
       " 'zapatillas': {'precio': 50, 'stock': 2}}"
      ]
     },
     "execution_count": 419,
     "metadata": {},
     "output_type": "execute_result"
    }
   ],
   "source": [
    "inventario"
   ]
  },
  {
   "cell_type": "code",
   "execution_count": 420,
   "id": "894748f5",
   "metadata": {},
   "outputs": [],
   "source": [
    "#vamos a mostrar el inventairio con los productos y los detalles usando las funciones for y luego print para imprimir\n",
    "def ver_inventario(): \n",
    "    for nombre in inventario: #para cada producto que hay en el inventario\n",
    "        precio = inventario[nombre][\"precio\"] #saca el precio\n",
    "        cantidad = inventario[nombre][\"stock\"] #saca el stock\n",
    "        print(f\"Nombre: {nombre}, Precio: €{precio}, Cantidad: {cantidad}\") #pinta todos los datos"
   ]
  },
  {
   "cell_type": "code",
   "execution_count": 421,
   "id": "87ffee63",
   "metadata": {},
   "outputs": [
    {
     "name": "stdout",
     "output_type": "stream",
     "text": [
      "Nombre: Camisa, Precio: €20, Cantidad: 41\n",
      "Nombre: pantalon, Precio: €20, Cantidad: 5\n",
      "Nombre: zapatillas, Precio: €50, Cantidad: 2\n"
     ]
    }
   ],
   "source": [
    "ver_inventario()"
   ]
  },
  {
   "cell_type": "markdown",
   "id": "2b03b7e3",
   "metadata": {},
   "source": [
    "## Ejercicio 3"
   ]
  },
  {
   "cell_type": "code",
   "execution_count": 422,
   "id": "e6596edd",
   "metadata": {},
   "outputs": [],
   "source": [
    "#funcion para buscar productos por nombre en mi inventario\n",
    "def buscar_producto(nombre): #llamamos a la funcion buscar producto por nombre\n",
    "    #uso el for para recorrer la lista de los productos\n",
    "    for producto in inventario: #para cada producto en el inventario\n",
    "        if producto == nombre: #si el producto es el nombre que buscamos entonces,\n",
    "            precio = inventario[producto][\"precio\"] \n",
    "            cantidad = inventario[producto][\"stock\"] #coge el precio y el stock\n",
    "            print(f\"Nombre: {nombre}, Precio: {precio}€, Cantidad: {cantidad}\")\n",
    "        return #paramos si encontramos el producto en el primer recorrido\n",
    "    \n",
    "    print('el producto no existe') #si no lo encuentra muestrame ....\n"
   ]
  },
  {
   "cell_type": "code",
   "execution_count": 423,
   "id": "4391a8a7",
   "metadata": {},
   "outputs": [
    {
     "name": "stdout",
     "output_type": "stream",
     "text": [
      "Nombre: Camisa, Precio: 20€, Cantidad: 41\n"
     ]
    }
   ],
   "source": [
    "buscar_producto('Camisa')"
   ]
  },
  {
   "cell_type": "code",
   "execution_count": 424,
   "id": "60c5d7b3",
   "metadata": {},
   "outputs": [],
   "source": [
    "buscar_producto('falda') #no consigo que esto salga el mensaje de producto no existe"
   ]
  },
  {
   "cell_type": "markdown",
   "id": "a102c89a",
   "metadata": {},
   "source": [
    "## Ejercicio 4"
   ]
  },
  {
   "cell_type": "code",
   "execution_count": null,
   "id": "be43bf23",
   "metadata": {},
   "outputs": [],
   "source": [
    "#vamos a actualizar el stock de uno de los productos \n",
    "def actualizar_stock(nombre, cantidad): # Usamos un for para revisar cada producto\n",
    "    for producto in inventario: # para cada producto que se mencione en el inventario \n",
    "        if producto == nombre: #Si encuentras el producto X, entonces\n",
    "            inventario[producto][\"stock\"] += cantidad #entonces actualizamos el stokc sumandoo o restando la cantidad\n",
    "            print(f'Stock de \"{nombre}\" actualizado. Ahora hay {inventario[producto][\"stock\"]} unidades.') # Mostramos el nuevo stock\n",
    "            return  # cuando se termine sal de la funcion porque ya hemos actualizado el stock\n",
    "\n",
    "    print(f'El producto \"{nombre}\" no está en el inventario.') # pero si  no se encuentra el producto, mostraré este mensaje"
   ]
  },
  {
   "cell_type": "code",
   "execution_count": 426,
   "id": "d62126e6",
   "metadata": {},
   "outputs": [
    {
     "data": {
      "text/plain": [
       "{'Camisa': {'precio': 20, 'stock': 41},\n",
       " 'pantalon': {'precio': 20, 'stock': 5},\n",
       " 'zapatillas': {'precio': 50, 'stock': 2}}"
      ]
     },
     "execution_count": 426,
     "metadata": {},
     "output_type": "execute_result"
    }
   ],
   "source": [
    "inventario"
   ]
  },
  {
   "cell_type": "code",
   "execution_count": 427,
   "id": "d84c1b38",
   "metadata": {},
   "outputs": [
    {
     "name": "stdout",
     "output_type": "stream",
     "text": [
      "Stock de \"Camisa\" actualizado. Ahora hay 43 unidades.\n",
      "Stock de \"pantalon\" actualizado. Ahora hay 3 unidades.\n"
     ]
    }
   ],
   "source": [
    "actualizar_stock(\"Camisa\", 2)\n",
    "actualizar_stock('pantalon', -2)"
   ]
  },
  {
   "cell_type": "code",
   "execution_count": 429,
   "id": "5005003f",
   "metadata": {},
   "outputs": [
    {
     "name": "stdout",
     "output_type": "stream",
     "text": [
      "El producto \"falda\" no está en el inventario.\n"
     ]
    }
   ],
   "source": [
    "actualizar_stock('falda', 2)"
   ]
  },
  {
   "cell_type": "code",
   "execution_count": 430,
   "id": "4f7ddb52",
   "metadata": {},
   "outputs": [
    {
     "data": {
      "text/plain": [
       "{'Camisa': {'precio': 20, 'stock': 43},\n",
       " 'pantalon': {'precio': 20, 'stock': 3},\n",
       " 'zapatillas': {'precio': 50, 'stock': 2}}"
      ]
     },
     "execution_count": 430,
     "metadata": {},
     "output_type": "execute_result"
    }
   ],
   "source": [
    "inventario"
   ]
  },
  {
   "cell_type": "markdown",
   "id": "30e6b058",
   "metadata": {},
   "source": [
    "## Ejercicio 5"
   ]
  },
  {
   "cell_type": "code",
   "execution_count": 431,
   "id": "a941288e",
   "metadata": {},
   "outputs": [],
   "source": [
    "#vamos a eliminar un producto del inventario en este caso será zapatillas\n",
    "def eliminar_producto(nombre):\n",
    "    if nombre in inventario: #si en nombre buscado del prodcuto está en el inventario\n",
    "        del inventario[nombre] #entonces elimina el prodcutos del inventario\n",
    "        print(f'El producto \"{nombre}\" ha sido eliminado.')\n",
    "    else:\n",
    "        print('producto no encontrado')"
   ]
  },
  {
   "cell_type": "code",
   "execution_count": null,
   "id": "7df5b4bd",
   "metadata": {},
   "outputs": [
    {
     "name": "stdout",
     "output_type": "stream",
     "text": [
      "El producto \"zapatillas\" ha sido eliminado.\n"
     ]
    }
   ],
   "source": [
    "eliminar_producto('zapatillas')"
   ]
  },
  {
   "cell_type": "code",
   "execution_count": 433,
   "id": "da47a275",
   "metadata": {},
   "outputs": [
    {
     "data": {
      "text/plain": [
       "{'Camisa': {'precio': 20, 'stock': 43}, 'pantalon': {'precio': 20, 'stock': 3}}"
      ]
     },
     "execution_count": 433,
     "metadata": {},
     "output_type": "execute_result"
    }
   ],
   "source": [
    "inventario"
   ]
  },
  {
   "cell_type": "code",
   "execution_count": 434,
   "id": "d0485b33",
   "metadata": {},
   "outputs": [
    {
     "name": "stdout",
     "output_type": "stream",
     "text": [
      "producto no encontrado\n"
     ]
    }
   ],
   "source": [
    "eliminar_producto(\"zapatillas\")"
   ]
  }
 ],
 "metadata": {
  "kernelspec": {
   "display_name": "Python 3",
   "language": "python",
   "name": "python3"
  },
  "language_info": {
   "codemirror_mode": {
    "name": "ipython",
    "version": 3
   },
   "file_extension": ".py",
   "mimetype": "text/x-python",
   "name": "python",
   "nbconvert_exporter": "python",
   "pygments_lexer": "ipython3",
   "version": "3.13.3"
  }
 },
 "nbformat": 4,
 "nbformat_minor": 5
}

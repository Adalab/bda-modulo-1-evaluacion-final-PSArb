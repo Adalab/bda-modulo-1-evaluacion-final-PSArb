{
 "cells": [
  {
   "cell_type": "code",
   "execution_count": 834,
   "id": "40660a33",
   "metadata": {},
   "outputs": [],
   "source": [
    "#Vamos a crear las estructuras principales con las que vamos a trabajar \n",
    "#tendremos una variable por cada estructura\n",
    "inventario = {} #Aquí se guardarán los productos, esta es una variable de tipo lista\n",
    "clientes = {} # igual que la anterior, con Información de los clientes\n",
    "ventas_totales = 0.0 # Una variable para llevar un registro de las ventas totales de la tienda. Inicializalo con valor 0. Al ser un dato de tipo Float debemos iniciar en 0.0"
   ]
  },
  {
   "cell_type": "markdown",
   "id": "486360a8",
   "metadata": {},
   "source": [
    "## Ejercicio 1"
   ]
  },
  {
   "cell_type": "code",
   "execution_count": 835,
   "id": "c7ce8862",
   "metadata": {},
   "outputs": [],
   "source": [
    "# Función para agregar un producto al inventario\n",
    "def agregar_producto(nombre, precio, stock): # Si el nombre del producto NO está en el inventario\n",
    "    if nombre not in inventario: # Creamos un nuevo producto como diccionario con su precio y stock\n",
    "        inventario[nombre] = {\"precio\": precio, \"stock\": stock}\n",
    "        print(f'Producto \"{nombre}\" agregado con éxito.') # muestrs un mensaje diciendo que se agregó\n",
    "    else:\n",
    "        inventario[nombre][\"stock\"] += 1 # Si ya existe, le sumamos 1 al stock\n",
    "        # miestra un mensaje diciendo que se actualizó el stock\n",
    "        print(f'El producto \"{nombre}\" ya existe. Stock actualizado a {inventario[nombre][\"stock\"]}.')"
   ]
  },
  {
   "cell_type": "code",
   "execution_count": 836,
   "id": "28df2631",
   "metadata": {},
   "outputs": [
    {
     "name": "stdout",
     "output_type": "stream",
     "text": [
      "Producto \"Camisa\" agregado con éxito.\n"
     ]
    }
   ],
   "source": [
    "#vamos a probar si esta primera funcion funciona:\n",
    "agregar_producto('Camisa', 20, 40)"
   ]
  },
  {
   "cell_type": "code",
   "execution_count": 837,
   "id": "f9715b5b",
   "metadata": {},
   "outputs": [
    {
     "name": "stdout",
     "output_type": "stream",
     "text": [
      "El producto \"Camisa\" ya existe. Stock actualizado a 41.\n"
     ]
    }
   ],
   "source": [
    "#voy a comprobar que pasa si agrego la misma de nuevo\n",
    "agregar_producto('Camisa', 20, 2)\n"
   ]
  },
  {
   "cell_type": "code",
   "execution_count": 838,
   "id": "594291dc",
   "metadata": {},
   "outputs": [
    {
     "data": {
      "text/plain": [
       "{'Camisa': {'precio': 20, 'stock': 41}}"
      ]
     },
     "execution_count": 838,
     "metadata": {},
     "output_type": "execute_result"
    }
   ],
   "source": [
    "inventario"
   ]
  },
  {
   "cell_type": "code",
   "execution_count": 839,
   "id": "24a8200a",
   "metadata": {},
   "outputs": [
    {
     "name": "stdout",
     "output_type": "stream",
     "text": [
      "Producto \"pantalon\" agregado con éxito.\n"
     ]
    }
   ],
   "source": [
    "agregar_producto('pantalon', 20, 5)"
   ]
  },
  {
   "cell_type": "code",
   "execution_count": 840,
   "id": "4324ff96",
   "metadata": {},
   "outputs": [
    {
     "data": {
      "text/plain": [
       "dict"
      ]
     },
     "execution_count": 840,
     "metadata": {},
     "output_type": "execute_result"
    }
   ],
   "source": [
    "type(clientes)"
   ]
  },
  {
   "cell_type": "code",
   "execution_count": 841,
   "id": "4aea05d2",
   "metadata": {},
   "outputs": [
    {
     "data": {
      "text/plain": [
       "dict"
      ]
     },
     "execution_count": 841,
     "metadata": {},
     "output_type": "execute_result"
    }
   ],
   "source": [
    "type(inventario)"
   ]
  },
  {
   "cell_type": "code",
   "execution_count": 842,
   "id": "cc8dba0c",
   "metadata": {},
   "outputs": [
    {
     "data": {
      "text/plain": [
       "function"
      ]
     },
     "execution_count": 842,
     "metadata": {},
     "output_type": "execute_result"
    }
   ],
   "source": [
    "type(agregar_producto)"
   ]
  },
  {
   "cell_type": "code",
   "execution_count": 843,
   "id": "6381b753",
   "metadata": {},
   "outputs": [
    {
     "name": "stdout",
     "output_type": "stream",
     "text": [
      "Producto \"zapatillas\" agregado con éxito.\n"
     ]
    }
   ],
   "source": [
    "agregar_producto('zapatillas', 50, 2)"
   ]
  },
  {
   "cell_type": "code",
   "execution_count": 844,
   "id": "b1c58469",
   "metadata": {},
   "outputs": [
    {
     "data": {
      "text/plain": [
       "{'Camisa': {'precio': 20, 'stock': 41},\n",
       " 'pantalon': {'precio': 20, 'stock': 5},\n",
       " 'zapatillas': {'precio': 50, 'stock': 2}}"
      ]
     },
     "execution_count": 844,
     "metadata": {},
     "output_type": "execute_result"
    }
   ],
   "source": [
    "inventario"
   ]
  },
  {
   "cell_type": "markdown",
   "id": "b47baec5",
   "metadata": {},
   "source": [
    "## Ejercicio 2"
   ]
  },
  {
   "cell_type": "code",
   "execution_count": 845,
   "id": "10f66439",
   "metadata": {},
   "outputs": [
    {
     "data": {
      "text/plain": [
       "{'Camisa': {'precio': 20, 'stock': 41},\n",
       " 'pantalon': {'precio': 20, 'stock': 5},\n",
       " 'zapatillas': {'precio': 50, 'stock': 2}}"
      ]
     },
     "execution_count": 845,
     "metadata": {},
     "output_type": "execute_result"
    }
   ],
   "source": [
    "inventario"
   ]
  },
  {
   "cell_type": "code",
   "execution_count": 846,
   "id": "894748f5",
   "metadata": {},
   "outputs": [],
   "source": [
    "#vamos a mostrar el inventairio con los productos y los detalles usando las funciones for y luego print para imprimir\n",
    "def ver_inventario(): \n",
    "    for nombre in inventario: #para cada producto que hay en el inventario\n",
    "        precio = inventario[nombre][\"precio\"] #saca el precio\n",
    "        cantidad = inventario[nombre][\"stock\"] #saca el stock\n",
    "        print(f\"Nombre: {nombre}, Precio: €{precio}, Cantidad: {cantidad}\") #pinta todos los datos"
   ]
  },
  {
   "cell_type": "code",
   "execution_count": 847,
   "id": "87ffee63",
   "metadata": {},
   "outputs": [
    {
     "name": "stdout",
     "output_type": "stream",
     "text": [
      "Nombre: Camisa, Precio: €20, Cantidad: 41\n",
      "Nombre: pantalon, Precio: €20, Cantidad: 5\n",
      "Nombre: zapatillas, Precio: €50, Cantidad: 2\n"
     ]
    }
   ],
   "source": [
    "ver_inventario()"
   ]
  },
  {
   "cell_type": "markdown",
   "id": "2b03b7e3",
   "metadata": {},
   "source": [
    "## Ejercicio 3"
   ]
  },
  {
   "cell_type": "code",
   "execution_count": 848,
   "id": "e6596edd",
   "metadata": {},
   "outputs": [],
   "source": [
    "#funcion para buscar productos por nombre en mi inventario\n",
    "def buscar_producto(nombre): #llamamos a la funcion buscar producto por nombre\n",
    "    #uso el for para recorrer la lista de los productos\n",
    "    for producto in inventario: #para cada producto en el inventario\n",
    "        if producto == nombre: #si el producto es el nombre que buscamos entonces,\n",
    "            precio = inventario[producto][\"precio\"] \n",
    "            cantidad = inventario[producto][\"stock\"] #coge el precio y el stock\n",
    "            print(f\"Nombre: {nombre}, Precio: {precio}€, Cantidad: {cantidad}\")\n",
    "        return #paramos si encontramos el producto en el primer recorrido\n",
    "    \n",
    "    print('el producto no existe') #si no lo encuentra muestrame ....\n"
   ]
  },
  {
   "cell_type": "code",
   "execution_count": 849,
   "id": "4391a8a7",
   "metadata": {},
   "outputs": [
    {
     "name": "stdout",
     "output_type": "stream",
     "text": [
      "Nombre: Camisa, Precio: 20€, Cantidad: 41\n"
     ]
    }
   ],
   "source": [
    "buscar_producto('Camisa')"
   ]
  },
  {
   "cell_type": "code",
   "execution_count": 850,
   "id": "60c5d7b3",
   "metadata": {},
   "outputs": [],
   "source": [
    "buscar_producto('falda') #no consigo que esto salga el mensaje de producto no existe"
   ]
  },
  {
   "cell_type": "markdown",
   "id": "a102c89a",
   "metadata": {},
   "source": [
    "## Ejercicio 4"
   ]
  },
  {
   "cell_type": "code",
   "execution_count": 851,
   "id": "be43bf23",
   "metadata": {},
   "outputs": [],
   "source": [
    "#vamos a actualizar el stock de uno de los productos \n",
    "def actualizar_stock(nombre, cantidad): # Usamos un for para revisar cada producto\n",
    "    for producto in inventario: # para cada producto que se mencione en el inventario \n",
    "        if producto == nombre: #Si encuentras el producto X, entonces\n",
    "            inventario[producto][\"stock\"] += cantidad #entonces actualizamos el stokc sumandoo o restando la cantidad\n",
    "            print(f'Stock de \"{nombre}\" actualizado. Ahora hay {inventario[producto][\"stock\"]} unidades.') # Mostramos el nuevo stock\n",
    "            return  # cuando se termine sal de la funcion porque ya hemos actualizado el stock\n",
    "\n",
    "    print(f'El producto \"{nombre}\" no está en el inventario.') # pero si  no se encuentra el producto, mostraré este mensaje"
   ]
  },
  {
   "cell_type": "code",
   "execution_count": 852,
   "id": "d62126e6",
   "metadata": {},
   "outputs": [
    {
     "data": {
      "text/plain": [
       "{'Camisa': {'precio': 20, 'stock': 41},\n",
       " 'pantalon': {'precio': 20, 'stock': 5},\n",
       " 'zapatillas': {'precio': 50, 'stock': 2}}"
      ]
     },
     "execution_count": 852,
     "metadata": {},
     "output_type": "execute_result"
    }
   ],
   "source": [
    "inventario"
   ]
  },
  {
   "cell_type": "code",
   "execution_count": 853,
   "id": "d84c1b38",
   "metadata": {},
   "outputs": [
    {
     "name": "stdout",
     "output_type": "stream",
     "text": [
      "Stock de \"Camisa\" actualizado. Ahora hay 43 unidades.\n",
      "Stock de \"pantalon\" actualizado. Ahora hay 3 unidades.\n"
     ]
    }
   ],
   "source": [
    "actualizar_stock(\"Camisa\", 2)\n",
    "actualizar_stock('pantalon', -2)"
   ]
  },
  {
   "cell_type": "code",
   "execution_count": 854,
   "id": "5005003f",
   "metadata": {},
   "outputs": [
    {
     "name": "stdout",
     "output_type": "stream",
     "text": [
      "El producto \"falda\" no está en el inventario.\n"
     ]
    }
   ],
   "source": [
    "actualizar_stock('falda', 2)"
   ]
  },
  {
   "cell_type": "code",
   "execution_count": 855,
   "id": "4f7ddb52",
   "metadata": {},
   "outputs": [
    {
     "data": {
      "text/plain": [
       "{'Camisa': {'precio': 20, 'stock': 43},\n",
       " 'pantalon': {'precio': 20, 'stock': 3},\n",
       " 'zapatillas': {'precio': 50, 'stock': 2}}"
      ]
     },
     "execution_count": 855,
     "metadata": {},
     "output_type": "execute_result"
    }
   ],
   "source": [
    "inventario"
   ]
  },
  {
   "cell_type": "markdown",
   "id": "30e6b058",
   "metadata": {},
   "source": [
    "## Ejercicio 5"
   ]
  },
  {
   "cell_type": "code",
   "execution_count": 856,
   "id": "a941288e",
   "metadata": {},
   "outputs": [],
   "source": [
    "#vamos a eliminar un producto del inventario en este caso será zapatillas\n",
    "def eliminar_producto(nombre):\n",
    "    if nombre in inventario: #si en nombre buscado del prodcuto está en el inventario\n",
    "        del inventario[nombre] #entonces elimina el prodcutos del inventario\n",
    "        print(f'El producto \"{nombre}\" ha sido eliminado.')\n",
    "    else:\n",
    "        print('producto no encontrado')"
   ]
  },
  {
   "cell_type": "code",
   "execution_count": 857,
   "id": "7df5b4bd",
   "metadata": {},
   "outputs": [
    {
     "name": "stdout",
     "output_type": "stream",
     "text": [
      "El producto \"zapatillas\" ha sido eliminado.\n"
     ]
    }
   ],
   "source": [
    "eliminar_producto('zapatillas')"
   ]
  },
  {
   "cell_type": "code",
   "execution_count": 858,
   "id": "da47a275",
   "metadata": {},
   "outputs": [
    {
     "data": {
      "text/plain": [
       "{'Camisa': {'precio': 20, 'stock': 43}, 'pantalon': {'precio': 20, 'stock': 3}}"
      ]
     },
     "execution_count": 858,
     "metadata": {},
     "output_type": "execute_result"
    }
   ],
   "source": [
    "inventario"
   ]
  },
  {
   "cell_type": "code",
   "execution_count": 859,
   "id": "d0485b33",
   "metadata": {},
   "outputs": [
    {
     "name": "stdout",
     "output_type": "stream",
     "text": [
      "producto no encontrado\n"
     ]
    }
   ],
   "source": [
    "eliminar_producto(\"zapatillas\")"
   ]
  },
  {
   "cell_type": "markdown",
   "id": "553a630d",
   "metadata": {},
   "source": [
    "## Ejercicio 6"
   ]
  },
  {
   "cell_type": "code",
   "execution_count": 860,
   "id": "849f7a39",
   "metadata": {},
   "outputs": [],
   "source": [
    "#vamos a calcular y mostrar el valor del invenario\n",
    "def calcular_valor_inventario(): # creamos una función que va a calcular el valor total del inventario\n",
    "    total = 0  # Creamos una variable para guardar el total. Empieza en 0 \n",
    "    for producto in inventario: # para cada producto en el inventario....\n",
    "        precio = inventario[producto][\"precio\"] #saca el precio del producto\n",
    "        cantidad = inventario[producto][\"stock\"] # y la cantidad que hay\n",
    "        valor = precio * cantidad  # Multiplicamos precio por cantidad, estamos calculando cuánto valen esas unidades (precio por cantidad)\n",
    "        total += valor  # Sumamos el resultado al total, total de camisas * 20 + total pantalon * 20\n",
    "         # Ejemplo:\n",
    "         # si tenemos 5 camisas que valen 5 euros  \n",
    "         # y 10 calcetines que valen 1 euro \n",
    "         # este método te tiene que devolver: 35 euros \n",
    "    \n",
    "    print(f\"El valor total del inventario es: {total} euros.\") # muestra el valor total\n"
   ]
  },
  {
   "cell_type": "code",
   "execution_count": 861,
   "id": "42143c40",
   "metadata": {},
   "outputs": [
    {
     "data": {
      "text/plain": [
       "{'Camisa': {'precio': 20, 'stock': 43}, 'pantalon': {'precio': 20, 'stock': 3}}"
      ]
     },
     "execution_count": 861,
     "metadata": {},
     "output_type": "execute_result"
    }
   ],
   "source": [
    "inventario"
   ]
  },
  {
   "cell_type": "code",
   "execution_count": 862,
   "id": "76cb6e11",
   "metadata": {},
   "outputs": [
    {
     "name": "stdout",
     "output_type": "stream",
     "text": [
      "El valor total del inventario es: 920 euros.\n"
     ]
    }
   ],
   "source": [
    "calcular_valor_inventario()"
   ]
  },
  {
   "cell_type": "markdown",
   "id": "e99dbaea",
   "metadata": {},
   "source": [
    "## Ejercicio 7\n",
    "- Se ha agregado el cliente, que de nuevo se pide en el ejercicio 9"
   ]
  },
  {
   "cell_type": "code",
   "execution_count": 863,
   "id": "6396a2b3",
   "metadata": {},
   "outputs": [],
   "source": [
    "#vamos a vender un producto permitiendo al cliente seleccionar el producto \n",
    "#primero vamos a crear a los clientes\n",
    "def agregar_cliente(id_cliente, nombre, email): # Verifica si el cliente no existe\n",
    "\n",
    "    if id_cliente not in clientes: # si cliente no está en la lista de ccclientes, entonces\n",
    "        clientes[id_cliente] = [nombre, email] #guarda el cliente con su nombre y su email\n",
    "        print(f'cliente {nombre} guardado')\n",
    "    else: # pero si el cliente ya existe, muestra un mensaje\n",
    "        print('cliente ya existe')"
   ]
  },
  {
   "cell_type": "code",
   "execution_count": 864,
   "id": "9354f7c3",
   "metadata": {},
   "outputs": [
    {
     "name": "stdout",
     "output_type": "stream",
     "text": [
      "cliente mnari guardado\n"
     ]
    }
   ],
   "source": [
    "agregar_cliente(1, 'mnari', 'mari@gmail.com')"
   ]
  },
  {
   "cell_type": "code",
   "execution_count": 865,
   "id": "097372f1",
   "metadata": {},
   "outputs": [
    {
     "data": {
      "text/plain": [
       "{1: ['mnari', 'mari@gmail.com']}"
      ]
     },
     "execution_count": 865,
     "metadata": {},
     "output_type": "execute_result"
    }
   ],
   "source": [
    "clientes"
   ]
  },
  {
   "cell_type": "code",
   "execution_count": 866,
   "id": "0573fcb8",
   "metadata": {},
   "outputs": [
    {
     "data": {
      "text/plain": [
       "{'Camisa': {'precio': 20, 'stock': 43}, 'pantalon': {'precio': 20, 'stock': 3}}"
      ]
     },
     "execution_count": 866,
     "metadata": {},
     "output_type": "execute_result"
    }
   ],
   "source": [
    "inventario"
   ]
  },
  {
   "cell_type": "code",
   "execution_count": 682,
   "id": "441c95ef",
   "metadata": {},
   "outputs": [],
   "source": [
    "## ahora vamos a realizar una venta, necesitamos usar el ID del cliente porque va a ser unívoco y personal. Prefiuero hacer esto primero para comprobar que funciona la funcion\n",
    "#def realizar_venta(id_cliente, nombre, cantidad): # funcion para realizar al final nuestra venta, he intentado cambiar el nombre del producto a nombre_producto pero no lo he conseguido,\n",
    "#    if id_cliente in clientes and nombre in inventario: #si el id del cliente está en clientes Verificar si cliente y el nombre_producto existe en el inventario, entonces\n",
    "#        # te puedo vender el producto, así que  \n",
    "#            if inventario[nombre]['stock'] >= cantidad:  # primero revisamos si hay suficiente stock\n",
    "#                id_venta = len(ventas) + 1  # despues generamos una variable nueva para la venta con un ID de venta univoco (1, 2...)\n",
    "#                precio = inventario[nombre]['precio']  # saca el precio del producto\n",
    "#                total = precio * cantidad  # Calcular el total de la venta es deccir el prcio por la cantidad de productos\n",
    "#                ventas.append([id_venta, id_cliente, nombre, cantidad, total]) # guardamos la venta en una lista \n",
    "#                inventario[nombre]['stock'] -= cantidad # el ultimo paso es actualizar el inventario con la venta sumando or restando la ccantidad vendida\n",
    "#            # Mostramos resumen de la venta\n",
    "#                print(f'venta exitosa con ID {id_venta}')\n",
    "#                print(f'Cliente: {clientes[id_cliente][0]}')\n",
    "#                print(f'Producto: {nombre}, cantidad comprada: {cantidad}, total: ${total}')\n",
    "#                print(f'Stock restante de {nombre}: {inventario[nombre][\"stock\"]}')\n",
    "#            else:\n",
    "#                print(\"Stock insuficiente.\")\n",
    "#    else:\n",
    "#        print(\"Cliente o producto no existe.\")"
   ]
  },
  {
   "cell_type": "code",
   "execution_count": null,
   "id": "59b1c543",
   "metadata": {},
   "outputs": [
    {
     "name": "stdout",
     "output_type": "stream",
     "text": [
      "venta exitosa con ID 4\n",
      "Cliente: mnari\n",
      "Producto: Camisa, cantidad comprada: 3, total: $60\n",
      "Stock restante de Camisa: 40\n"
     ]
    }
   ],
   "source": [
    "#prueba para ver que funciona el codigo anterior\n",
    "# realizar_venta(1, 'Camisa', 3) #primeor ponemos la cantidad que se lleva el cliente, luego el nombre del producto y finalmente el ID de la venta\n"
   ]
  },
  {
   "cell_type": "markdown",
   "id": "d8e52c23",
   "metadata": {},
   "source": [
    "* Ejercicio 7 (Varias compras)"
   ]
  },
  {
   "cell_type": "code",
   "execution_count": 867,
   "id": "1eb9fbc2",
   "metadata": {},
   "outputs": [],
   "source": [
    "#ahora vla creo ccon el while, para que el cliente pueda interactuar y comprar varias cosas.\n",
    "\n",
    "#primero voy a crear las dos variables que neceito\n",
    "\n",
    "def realizar_compra(id_cliente): #llamo a la funcion relaizar_compra para diferenciarla de las ventas anteriores\n",
    "    if id_cliente not in clientes: #primero verificamos si el cliente existe o no\n",
    "        print(\"El cliente no existe.\") #si no existe devuelve este mensaje \n",
    "        return  # y directeamente se acaba y salimos de la función\n",
    "    \n",
    "    carrito = [] # Lista para guardar lo que el cliente compra\n",
    "    total = 0 # Acumulador para el total de la compradef realizar_compra(id_cliente): #vamos a crear esta funcion para distinguirla de la anterior\n",
    "    print(\"Bienvenido/a\", clientes[id_cliente][0]) #al introduccir el ID mostraremos el nombre del cliente\n",
    "\n",
    "    seguir_comprando = True  # el cliente existe, entonces creo una variable para el bucle, Si es True, el cliente puede seguir comprando\n",
    "\n",
    "    while seguir_comprando: #mostramos los productos del inventario\n",
    "        print(\"Productos disponibles:\")\n",
    "        for producto in inventario: #para cada producto del inventario ....\n",
    "            precio = inventario[producto]['precio'] #coge el precioo\n",
    "            stock = inventario[producto]['stock'] #coge el stock\n",
    "            print(producto, \"Precio €:\", precio, \"Stock:\", stock) #y muestralo al usuario\n",
    " \n",
    "        producto = input(\"Escribe el nombre del producto que deseas comprar (o escribe salir para cancelar): \") #ahora pido al usuario que inserte el producto que desea comprar\n",
    "        \n",
    "        #pero vamos a iniciar un if/else para volver al inicio en c aso de que el usuario no quiera seguir con la compra y escriba \"salir\"\n",
    "        if producto == \"salir\": #si el cliente escribe 'salir', dejamos de pedir más productos\n",
    "            seguir_comprando = False  # El bucle terminará ycerraremos\n",
    "            print('Gracias, nos vemos')\n",
    "\n",
    "        elif producto in inventario: # Si por el contrario, el producto existe en el inventario, entonces continuamos\n",
    "            try: # Pedimos cuanto quiere comprar y convertimos a número\n",
    "                cantidad = int(input(\"¿Cuántos quieres?: \"))\n",
    "            except ValueError: # Si no escribe un número valido ENTERO, mostramos un mensaje y volvemos al inicio               \n",
    "                print(\"Por favor, escribe un número válido.\")\n",
    "                continue  # Volver a pedir el producto\n",
    "            if inventario[producto]['stock'] >= cantidad: # y si el usuario lo inserta bien, comprobamos que haya suficiente stock; con otro if; si la cantidad existe para el producto en nuestro inventairo, entonces.... (el stock tiene que ser mayor o igual a la cantidad que el usuario inserta)\n",
    "                carrito.append([producto, cantidad]) # guarda la compra en el carrito\n",
    "\n",
    "                # Calculamos el precio total de esa compra (he preferido dejaar la parte de actualizar el inventario para despues de este momento, suponiendo que el usuario hace la compra y luego se actualiza el stock)\n",
    "                precio = inventario[producto]['precio'] #coge el precioo\n",
    "                subtotal = precio * cantidad #cre aun ssubtotal de cada precio por cada cantidad del producto\n",
    "                total += subtotal  #y finalmente sumamos todas las multiplicaciones anteriores para tener total general\n",
    "\n",
    "                #Ahora vamos a suponer que el usuario ha relaizado la compra\n",
    "                print(\"compra realizada con exito\") #y le mostramos al usuario el mensaje de exito en la compra...\n",
    "                \n",
    "                #Actualizamos el stock, y para ello restamos la cantidad comprada por el usuario a nuestro stock\n",
    "                inventario[producto]['stock'] -= cantidad #basicamenre, al producto que está en el inventario, restale la cantidad indicada\n",
    "                print(\"Agregado al carrito:\", producto, \"x\", cantidad) #y le mostramos al usuario el mensaje de agregado...\n",
    "\n",
    "            else: # Si no hay suficiente stock, muestra el mensaje....\n",
    "                print(\"No hay suficiente stock.\")\n",
    "        else: #o si el producto no existe, muestra el mensaje....\n",
    "            print(\"Ese producto no existe.\")\n",
    "            \n",
    "        seguir_comprando = False  #  Esto termina el bucle tras una compra exitosa\n",
    "    \n",
    "    # Mostrar resumen final al usuario\n",
    "    print(\"\\nResumen de la compra:\")\n",
    "    for item in carrito:\n",
    "        print(item[0], \"x\", item[1])\n",
    "\n",
    "    print(\"Total a pagar: €\", total)\n",
    "\n"
   ]
  },
  {
   "cell_type": "code",
   "execution_count": 868,
   "id": "bbd8d148",
   "metadata": {},
   "outputs": [
    {
     "name": "stdout",
     "output_type": "stream",
     "text": [
      "El cliente no existe.\n"
     ]
    }
   ],
   "source": [
    "realizar_compra(2)"
   ]
  },
  {
   "cell_type": "code",
   "execution_count": 869,
   "id": "7c55f1b9",
   "metadata": {},
   "outputs": [
    {
     "name": "stdout",
     "output_type": "stream",
     "text": [
      "Bienvenido/a mnari\n",
      "Productos disponibles:\n",
      "Camisa Precio €: 20 Stock: 43\n",
      "pantalon Precio €: 20 Stock: 3\n",
      "compra realizada con exito\n",
      "Agregado al carrito: Camisa x 5\n",
      "\n",
      "Resumen de la compra:\n",
      "Camisa x 5\n",
      "Total a pagar: € 100\n"
     ]
    }
   ],
   "source": [
    "realizar_compra(1)"
   ]
  },
  {
   "cell_type": "code",
   "execution_count": 871,
   "id": "03b848d8",
   "metadata": {},
   "outputs": [
    {
     "data": {
      "text/plain": [
       "{'Camisa': {'precio': 20, 'stock': 38}, 'pantalon': {'precio': 20, 'stock': 3}}"
      ]
     },
     "execution_count": 871,
     "metadata": {},
     "output_type": "execute_result"
    }
   ],
   "source": [
    "inventario"
   ]
  },
  {
   "cell_type": "code",
   "execution_count": 872,
   "id": "fbea5cdb",
   "metadata": {},
   "outputs": [
    {
     "name": "stdout",
     "output_type": "stream",
     "text": [
      "Bienvenido/a mnari\n",
      "Productos disponibles:\n",
      "Camisa Precio €: 20 Stock: 38\n",
      "pantalon Precio €: 20 Stock: 3\n",
      "No hay suficiente stock.\n",
      "\n",
      "Resumen de la compra:\n",
      "Total a pagar: € 0\n"
     ]
    }
   ],
   "source": [
    "realizar_compra(1)"
   ]
  },
  {
   "cell_type": "code",
   "execution_count": 873,
   "id": "92f7ea10",
   "metadata": {},
   "outputs": [
    {
     "data": {
      "text/plain": [
       "{'Camisa': {'precio': 20, 'stock': 38}, 'pantalon': {'precio': 20, 'stock': 3}}"
      ]
     },
     "execution_count": 873,
     "metadata": {},
     "output_type": "execute_result"
    }
   ],
   "source": [
    "inventario"
   ]
  },
  {
   "cell_type": "markdown",
   "id": "023f483a",
   "metadata": {},
   "source": [
    "## Ejercicio 8"
   ]
  },
  {
   "cell_type": "code",
   "execution_count": 878,
   "id": "60e4ec9e",
   "metadata": {},
   "outputs": [],
   "source": [
    "#vamos a simular un pago\n",
    "def procesar_pago(): #creo una función simula el pago de una compra\n",
    "    try: # Pedimos al usuario que escriba el total de la compra,uso float para permitir decimales (ejemplo: 39.99)        \n",
    "        total = float(input(\"Escribe el total de la compra: \")) #le pido al usuairo que introducza el total\n",
    "        pago = float(input(\"¿Con cuánto vas a pagar?: \")) # Pedimos el dinero que tiene para pagar\n",
    "        \n",
    "        if pago >= total: # Verificamos si el pago es suficiente: si el pago es mayor que el total.. entonces\n",
    "            cambio = pago - total #calculameos el cambio\n",
    "            print(\"Pago realizado con éxito.\")\n",
    "            print(\"Tu cambio es: €\", round(cambio, 2))  # y mostramos el cambio, usando round para redondear el cambio a 2 decimales\n",
    "        else: #si por el contrario el pago no llega al total de la compra, \n",
    "            falta = total - pago #calcula lo que falta que es el total menos lo que quiere pagar el usuario y ....\n",
    "            print(\"El dinero no es suficiente. Faltan €\", round(falta, 2)) #muestra un mensaje con lo que falta en euros redondeando a 2 decimales\n",
    "\n",
    "    except ValueError:\n",
    "        # Si el usuario no escribe un número válido como letras....\n",
    "        print(\"Error: Por favor, escribe solo números (con punto si es decimal).\") #muestra este mensaje"
   ]
  },
  {
   "cell_type": "code",
   "execution_count": 879,
   "id": "20a58c4d",
   "metadata": {},
   "outputs": [
    {
     "name": "stdout",
     "output_type": "stream",
     "text": [
      "Pago realizado con éxito.\n",
      "Tu cambio es: € 0.0\n"
     ]
    }
   ],
   "source": [
    "procesar_pago()"
   ]
  },
  {
   "cell_type": "code",
   "execution_count": 880,
   "id": "414d41c6",
   "metadata": {},
   "outputs": [
    {
     "name": "stdout",
     "output_type": "stream",
     "text": [
      "Pago realizado con éxito.\n",
      "Tu cambio es: € 20.5\n"
     ]
    }
   ],
   "source": [
    "procesar_pago()"
   ]
  },
  {
   "cell_type": "code",
   "execution_count": 881,
   "id": "76e3e5a7",
   "metadata": {},
   "outputs": [
    {
     "name": "stdout",
     "output_type": "stream",
     "text": [
      "El dinero no es suficiente. Faltan € 10.0\n"
     ]
    }
   ],
   "source": [
    "procesar_pago()"
   ]
  },
  {
   "cell_type": "code",
   "execution_count": 882,
   "id": "c398c14e",
   "metadata": {},
   "outputs": [
    {
     "name": "stdout",
     "output_type": "stream",
     "text": [
      "Error: Por favor, escribe solo números (con punto si es decimal).\n"
     ]
    }
   ],
   "source": [
    "procesar_pago()"
   ]
  },
  {
   "cell_type": "markdown",
   "id": "7de38810",
   "metadata": {},
   "source": [
    "## Ejercicio 9\n",
    "- realizado en el ejercicio 7, aquí agregaré un cliente más para poder hacer el ejercicio 10"
   ]
  },
  {
   "cell_type": "code",
   "execution_count": 883,
   "id": "2f0347cf",
   "metadata": {},
   "outputs": [
    {
     "name": "stdout",
     "output_type": "stream",
     "text": [
      "cliente Pablo guardado\n"
     ]
    }
   ],
   "source": [
    "agregar_cliente(2, 'Pablo', 'pablo@gmail.com')"
   ]
  },
  {
   "cell_type": "code",
   "execution_count": 884,
   "id": "fb59d340",
   "metadata": {},
   "outputs": [
    {
     "data": {
      "text/plain": [
       "{1: ['mnari', 'mari@gmail.com'], 2: ['Pablo', 'pablo@gmail.com']}"
      ]
     },
     "execution_count": 884,
     "metadata": {},
     "output_type": "execute_result"
    }
   ],
   "source": [
    "clientes"
   ]
  },
  {
   "cell_type": "code",
   "execution_count": null,
   "id": "7d92d75c",
   "metadata": {},
   "outputs": [],
   "source": [
    "#vamos a vender un producto permitiendo al cliente seleccionar el producto \n",
    "#primero vamos a crear a los clientes\n",
    "def agregar_cliente(id_cliente, nombre, email): # Verifica si el cliente no existe\n",
    "\n",
    "    if id_cliente not in clientes: # si cliente no está en la lista de ccclientes, entonces\n",
    "        clientes[id_cliente] = [nombre, email] #guarda el cliente con su nombre y su email\n",
    "        print(f'cliente {nombre} guardado')\n",
    "    else: # pero si el cliente ya existe, muestra un mensaje\n",
    "        print('cliente ya existe')"
   ]
  },
  {
   "cell_type": "markdown",
   "id": "67e8275a",
   "metadata": {},
   "source": [
    "## Ejercicio 10"
   ]
  },
  {
   "cell_type": "code",
   "execution_count": 893,
   "id": "7a167670",
   "metadata": {},
   "outputs": [],
   "source": [
    "#vamos a mostrar la lista de clientes con todos los detalles usando funion for y luego print para imprimir\n",
    "def ver_clientes(): #creamos la funcion para llamarla luego  \n",
    "    for id_clientes in clientes: #para cada cliente que hay en la DB\n",
    "        nombre = clientes[id_clientes][0] #saca el nombre que esta en la posicion 0\n",
    "        email= clientes[id_clientes][1] #saca el email que esta en la posicion 1\n",
    "        print(f\"nombre: {nombre}, email {email}\") #pinta todos los datos"
   ]
  },
  {
   "cell_type": "code",
   "execution_count": 894,
   "id": "f3c938e7",
   "metadata": {},
   "outputs": [
    {
     "name": "stdout",
     "output_type": "stream",
     "text": [
      "nombre: mnari, email mari@gmail.com\n",
      "nombre: Pablo, email pablo@gmail.com\n"
     ]
    }
   ],
   "source": [
    "ver_clientes()"
   ]
  }
 ],
 "metadata": {
  "kernelspec": {
   "display_name": "Python 3",
   "language": "python",
   "name": "python3"
  },
  "language_info": {
   "codemirror_mode": {
    "name": "ipython",
    "version": 3
   },
   "file_extension": ".py",
   "mimetype": "text/x-python",
   "name": "python",
   "nbconvert_exporter": "python",
   "pygments_lexer": "ipython3",
   "version": "3.13.3"
  }
 },
 "nbformat": 4,
 "nbformat_minor": 5
}

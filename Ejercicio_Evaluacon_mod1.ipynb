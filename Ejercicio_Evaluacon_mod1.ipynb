{
 "cells": [
  {
   "cell_type": "code",
   "execution_count": 159,
   "id": "40660a33",
   "metadata": {},
   "outputs": [],
   "source": [
    "#Vamos a crear las estructuras principales con las que vamos a trabajar \n",
    "#tendremos una variable por cada estructura\n",
    "inventario = {} #Aquí se guardarán los productos, esta es una variable de tipo diccionario, ya que los productos pueden variar y además tienen diferentes claves\n",
    "clientes = {} # igual que la anterior, con Información de los clientes\n",
    "ventas_totales = 0.0 # Una variable para llevar un registro de las ventas totales de la tienda. Inicializalo con valor 0. Al ser un dato de tipo Float debemos iniciar en 0.0"
   ]
  },
  {
   "cell_type": "code",
   "execution_count": null,
   "id": "c7ce8862",
   "metadata": {},
   "outputs": [],
   "source": [
    "#agrega un nuevo producto al inventario\n",
    "def agregar_producto(nombre, precio, stock): #def crea la funcion, le agrego un ID para poder localizar el producto\n",
    "    if nombre not in inventario: #lo primero que hago es ccomprobar si existe o no el producto: si el producto no esta en el inventario...\n",
    "        inventario[nombre] = {nombre, precio, stock} #entonces puedes gguardar la informaion -- Faltaria definir las claves????\n",
    "        print(f'Producto {nombre} agregado con éxito') #informas de que se ha agregado con exito\n",
    "    else: # Si el nombre ya existe, se informa al usuario de que ya existe\n",
    "        print(f\"El producto con nombre {nombre} ya existe.\")"
   ]
  },
  {
   "cell_type": "code",
   "execution_count": 161,
   "id": "28df2631",
   "metadata": {},
   "outputs": [
    {
     "name": "stdout",
     "output_type": "stream",
     "text": [
      "Producto Camisa agregado con éxito\n"
     ]
    }
   ],
   "source": [
    "#vamos a probar si esta primera funcion funciona:\n",
    "agregar_producto('Camisa', 20, 40)"
   ]
  },
  {
   "cell_type": "code",
   "execution_count": 162,
   "id": "f9715b5b",
   "metadata": {},
   "outputs": [
    {
     "name": "stdout",
     "output_type": "stream",
     "text": [
      "El producto con nombre Camisa ya existe.\n"
     ]
    }
   ],
   "source": [
    "#voy a comprobar que pasa si agrego la misma de nuevo\n",
    "agregar_producto('Camisa', 20, 2)\n"
   ]
  },
  {
   "cell_type": "code",
   "execution_count": 163,
   "id": "594291dc",
   "metadata": {},
   "outputs": [
    {
     "data": {
      "text/plain": [
       "{'Camisa': {20, 40, 'Camisa'}}"
      ]
     },
     "execution_count": 163,
     "metadata": {},
     "output_type": "execute_result"
    }
   ],
   "source": [
    "inventario"
   ]
  },
  {
   "cell_type": "code",
   "execution_count": 164,
   "id": "4ecf995f",
   "metadata": {},
   "outputs": [],
   "source": [
    "def agregar_producto(nombre, precio, stock):\n",
    "    if nombre not in inventario:# Usamos un diccionario para guardar la info correctamente y python sepa donde ir\n",
    "        inventario[nombre] = {\"precio\": precio, \"stock\": stock}\n",
    "        print(f'Producto \"{nombre}\" agregado con éxito.')\n",
    "    else:\n",
    "        inventario[nombre][\"stock\"] += 1 # aquiAccedemos  al stock y sumamos 1\n",
    "        print(f'El producto \"{nombre}\" ya existe. Stock actualizado a {inventario[nombre][\"stock\"]}.')"
   ]
  },
  {
   "cell_type": "code",
   "execution_count": 165,
   "id": "24a8200a",
   "metadata": {},
   "outputs": [
    {
     "name": "stdout",
     "output_type": "stream",
     "text": [
      "Producto \"pantalon\" agregado con éxito.\n"
     ]
    }
   ],
   "source": [
    "agregar_producto('pantalon', 20, 5)"
   ]
  },
  {
   "cell_type": "code",
   "execution_count": 166,
   "id": "4324ff96",
   "metadata": {},
   "outputs": [
    {
     "data": {
      "text/plain": [
       "dict"
      ]
     },
     "execution_count": 166,
     "metadata": {},
     "output_type": "execute_result"
    }
   ],
   "source": [
    "type(clientes)"
   ]
  },
  {
   "cell_type": "code",
   "execution_count": 167,
   "id": "4aea05d2",
   "metadata": {},
   "outputs": [
    {
     "data": {
      "text/plain": [
       "dict"
      ]
     },
     "execution_count": 167,
     "metadata": {},
     "output_type": "execute_result"
    }
   ],
   "source": [
    "type(inventario)"
   ]
  },
  {
   "cell_type": "code",
   "execution_count": 168,
   "id": "cc8dba0c",
   "metadata": {},
   "outputs": [
    {
     "data": {
      "text/plain": [
       "function"
      ]
     },
     "execution_count": 168,
     "metadata": {},
     "output_type": "execute_result"
    }
   ],
   "source": [
    "type(agregar_producto)"
   ]
  },
  {
   "cell_type": "code",
   "execution_count": 171,
   "id": "207e114f",
   "metadata": {},
   "outputs": [
    {
     "name": "stdout",
     "output_type": "stream",
     "text": [
      "El producto \"Pantalon\" ya existe. Stock actualizado a 6.\n"
     ]
    }
   ],
   "source": [
    "agregar_producto('Pantalon', 20, 5)"
   ]
  },
  {
   "cell_type": "code",
   "execution_count": 175,
   "id": "e6e99b3f",
   "metadata": {},
   "outputs": [
    {
     "data": {
      "text/plain": [
       "{'Camisa': {20, 40, 'Camisa'},\n",
       " 'pantalon': {'precio': 20, 'stock': 5},\n",
       " 'Pantalon': {'precio': 20, 'stock': 6}}"
      ]
     },
     "execution_count": 175,
     "metadata": {},
     "output_type": "execute_result"
    }
   ],
   "source": [
    "inventario"
   ]
  }
 ],
 "metadata": {
  "kernelspec": {
   "display_name": "Python 3",
   "language": "python",
   "name": "python3"
  },
  "language_info": {
   "codemirror_mode": {
    "name": "ipython",
    "version": 3
   },
   "file_extension": ".py",
   "mimetype": "text/x-python",
   "name": "python",
   "nbconvert_exporter": "python",
   "pygments_lexer": "ipython3",
   "version": "3.13.3"
  }
 },
 "nbformat": 4,
 "nbformat_minor": 5
}

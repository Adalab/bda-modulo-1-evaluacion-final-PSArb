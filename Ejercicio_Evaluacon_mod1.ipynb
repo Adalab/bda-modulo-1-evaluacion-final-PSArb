{
 "cells": [
  {
   "cell_type": "code",
   "execution_count": 325,
   "id": "40660a33",
   "metadata": {},
   "outputs": [],
   "source": [
    "#Vamos a crear las estructuras principales con las que vamos a trabajar \n",
    "#tendremos una variable por cada estructura\n",
    "inventario = {} #Aquí se guardarán los productos, esta es una variable de tipo lista\n",
    "clientes = {} # igual que la anterior, con Información de los clientes\n",
    "ventas_totales = 0.0 # Una variable para llevar un registro de las ventas totales de la tienda. Inicializalo con valor 0. Al ser un dato de tipo Float debemos iniciar en 0.0"
   ]
  },
  {
   "cell_type": "markdown",
   "id": "486360a8",
   "metadata": {},
   "source": [
    "## Ejercicio 1"
   ]
  },
  {
   "cell_type": "code",
   "execution_count": 326,
   "id": "c7ce8862",
   "metadata": {},
   "outputs": [],
   "source": [
    "# Función para agregar un producto al inventario\n",
    "def agregar_producto(nombre, precio, stock): # Si el nombre del producto NO está en el inventario\n",
    "    if nombre not in inventario: # Creamos un nuevo producto como diccionario con su precio y stock\n",
    "        inventario[nombre] = {\"precio\": precio, \"stock\": stock}\n",
    "        print(f'Producto \"{nombre}\" agregado con éxito.') # muestrs un mensaje diciendo que se agregó\n",
    "    else:\n",
    "        inventario[nombre][\"stock\"] += 1 # Si ya existe, le sumamos 1 al stock\n",
    "        # miestra un mensaje diciendo que se actualizó el stock\n",
    "        print(f'El producto \"{nombre}\" ya existe. Stock actualizado a {inventario[nombre][\"stock\"]}.')"
   ]
  },
  {
   "cell_type": "code",
   "execution_count": 327,
   "id": "28df2631",
   "metadata": {},
   "outputs": [
    {
     "name": "stdout",
     "output_type": "stream",
     "text": [
      "Producto \"Camisa\" agregado con éxito.\n"
     ]
    }
   ],
   "source": [
    "#vamos a probar si esta primera funcion funciona:\n",
    "agregar_producto('Camisa', 20, 40)"
   ]
  },
  {
   "cell_type": "code",
   "execution_count": 328,
   "id": "f9715b5b",
   "metadata": {},
   "outputs": [
    {
     "name": "stdout",
     "output_type": "stream",
     "text": [
      "El producto \"Camisa\" ya existe. Stock actualizado a 41.\n"
     ]
    }
   ],
   "source": [
    "#voy a comprobar que pasa si agrego la misma de nuevo\n",
    "agregar_producto('Camisa', 20, 2)\n"
   ]
  },
  {
   "cell_type": "code",
   "execution_count": 329,
   "id": "594291dc",
   "metadata": {},
   "outputs": [
    {
     "data": {
      "text/plain": [
       "{'Camisa': {'precio': 20, 'stock': 41}}"
      ]
     },
     "execution_count": 329,
     "metadata": {},
     "output_type": "execute_result"
    }
   ],
   "source": [
    "inventario"
   ]
  },
  {
   "cell_type": "code",
   "execution_count": 330,
   "id": "24a8200a",
   "metadata": {},
   "outputs": [
    {
     "name": "stdout",
     "output_type": "stream",
     "text": [
      "Producto \"pantalon\" agregado con éxito.\n"
     ]
    }
   ],
   "source": [
    "agregar_producto('pantalon', 20, 5)"
   ]
  },
  {
   "cell_type": "code",
   "execution_count": 331,
   "id": "4324ff96",
   "metadata": {},
   "outputs": [
    {
     "data": {
      "text/plain": [
       "dict"
      ]
     },
     "execution_count": 331,
     "metadata": {},
     "output_type": "execute_result"
    }
   ],
   "source": [
    "type(clientes)"
   ]
  },
  {
   "cell_type": "code",
   "execution_count": 332,
   "id": "4aea05d2",
   "metadata": {},
   "outputs": [
    {
     "data": {
      "text/plain": [
       "dict"
      ]
     },
     "execution_count": 332,
     "metadata": {},
     "output_type": "execute_result"
    }
   ],
   "source": [
    "type(inventario)"
   ]
  },
  {
   "cell_type": "code",
   "execution_count": 333,
   "id": "cc8dba0c",
   "metadata": {},
   "outputs": [
    {
     "data": {
      "text/plain": [
       "function"
      ]
     },
     "execution_count": 333,
     "metadata": {},
     "output_type": "execute_result"
    }
   ],
   "source": [
    "type(agregar_producto)"
   ]
  },
  {
   "cell_type": "code",
   "execution_count": 334,
   "id": "207e114f",
   "metadata": {},
   "outputs": [
    {
     "name": "stdout",
     "output_type": "stream",
     "text": [
      "Producto \"Pantalon\" agregado con éxito.\n"
     ]
    }
   ],
   "source": [
    "agregar_producto('Pantalon', 20, 5)"
   ]
  },
  {
   "cell_type": "code",
   "execution_count": 335,
   "id": "6381b753",
   "metadata": {},
   "outputs": [
    {
     "name": "stdout",
     "output_type": "stream",
     "text": [
      "Producto \"zapatillas\" agregado con éxito.\n"
     ]
    }
   ],
   "source": [
    "agregar_producto('zapatillas', 50, 2)"
   ]
  },
  {
   "cell_type": "code",
   "execution_count": 336,
   "id": "b1c58469",
   "metadata": {},
   "outputs": [
    {
     "data": {
      "text/plain": [
       "{'Camisa': {'precio': 20, 'stock': 41},\n",
       " 'pantalon': {'precio': 20, 'stock': 5},\n",
       " 'Pantalon': {'precio': 20, 'stock': 5},\n",
       " 'zapatillas': {'precio': 50, 'stock': 2}}"
      ]
     },
     "execution_count": 336,
     "metadata": {},
     "output_type": "execute_result"
    }
   ],
   "source": [
    "inventario"
   ]
  },
  {
   "cell_type": "markdown",
   "id": "b47baec5",
   "metadata": {},
   "source": [
    "## Ejercicio 2"
   ]
  },
  {
   "cell_type": "code",
   "execution_count": 337,
   "id": "10f66439",
   "metadata": {},
   "outputs": [
    {
     "data": {
      "text/plain": [
       "{'Camisa': {'precio': 20, 'stock': 41},\n",
       " 'pantalon': {'precio': 20, 'stock': 5},\n",
       " 'Pantalon': {'precio': 20, 'stock': 5},\n",
       " 'zapatillas': {'precio': 50, 'stock': 2}}"
      ]
     },
     "execution_count": 337,
     "metadata": {},
     "output_type": "execute_result"
    }
   ],
   "source": [
    "inventario"
   ]
  },
  {
   "cell_type": "code",
   "execution_count": 344,
   "id": "894748f5",
   "metadata": {},
   "outputs": [],
   "source": [
    "#vamos a mostrar el inventairio con los productos y los detalles usando las funciones for y luego print para imprimir\n",
    "def ver_inventario(): \n",
    "    for nombre in inventario: #para cada producto que hay en el inventario\n",
    "        precio = inventario[nombre][\"precio\"] #saca el precio\n",
    "        cantidad = inventario[nombre][\"stock\"] #saca el stock\n",
    "        print(f\"Nombre: {nombre}, Precio: €{precio}, Cantidad: {cantidad}\") #pinta todos los datos"
   ]
  },
  {
   "cell_type": "code",
   "execution_count": 351,
   "id": "87ffee63",
   "metadata": {},
   "outputs": [
    {
     "name": "stdout",
     "output_type": "stream",
     "text": [
      "Nombre: Camisa, Precio: €20, Cantidad: 41\n",
      "Nombre: pantalon, Precio: €20, Cantidad: 5\n",
      "Nombre: Pantalon, Precio: €20, Cantidad: 5\n",
      "Nombre: zapatillas, Precio: €50, Cantidad: 2\n"
     ]
    }
   ],
   "source": [
    "ver_inventario()"
   ]
  },
  {
   "cell_type": "markdown",
   "id": "2b03b7e3",
   "metadata": {},
   "source": [
    "## Ejercicio 3"
   ]
  },
  {
   "cell_type": "code",
   "execution_count": 355,
   "id": "e6596edd",
   "metadata": {},
   "outputs": [],
   "source": [
    "#funcion para buscar productos por nombre en mi inventario\n",
    "def buscar_producto(nombre): #llamamos a la funcion buscar producto por nombre\n",
    "    #uso el for para recorrer la lista de los productos\n",
    "    for producto in inventario: #para cada producto en el inventario\n",
    "        if producto == nombre: #si el producto es el nombre que buscamos entonces,\n",
    "            precio = inventario[producto][\"precio\"] \n",
    "            cantidad = inventario[producto][\"stock\"] #coge el precio y el stock\n",
    "            print(f\"Nombre: {nombre}, Precio: {precio}€, Cantidad: {cantidad}\")\n",
    "        return #paramos si encontramos el producto en el primer recorrido\n",
    "    \n",
    "    print('el producto no existe') #si no lo encuentra muestrame ....\n"
   ]
  },
  {
   "cell_type": "code",
   "execution_count": 356,
   "id": "4391a8a7",
   "metadata": {},
   "outputs": [
    {
     "name": "stdout",
     "output_type": "stream",
     "text": [
      "Nombre: Camisa, Precio: 20€, Cantidad: 41\n"
     ]
    }
   ],
   "source": [
    "buscar_producto('Camisa')"
   ]
  },
  {
   "cell_type": "code",
   "execution_count": null,
   "id": "60c5d7b3",
   "metadata": {},
   "outputs": [],
   "source": [
    "buscar_producto('falda') #no consigo que esto salga el mensaje de producto no existe"
   ]
  }
 ],
 "metadata": {
  "kernelspec": {
   "display_name": "Python 3",
   "language": "python",
   "name": "python3"
  },
  "language_info": {
   "codemirror_mode": {
    "name": "ipython",
    "version": 3
   },
   "file_extension": ".py",
   "mimetype": "text/x-python",
   "name": "python",
   "nbconvert_exporter": "python",
   "pygments_lexer": "ipython3",
   "version": "3.13.3"
  }
 },
 "nbformat": 4,
 "nbformat_minor": 5
}
